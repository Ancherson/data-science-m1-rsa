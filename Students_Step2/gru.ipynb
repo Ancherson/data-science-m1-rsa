{
 "cells": [
  {
   "cell_type": "code",
   "execution_count": 1,
   "metadata": {},
   "outputs": [],
   "source": [
    "import pandas as pd\n",
    "import numpy as np\n",
    "import tensorflow as tf\n",
    "from keras.models import Sequential\n",
    "from keras.layers import GRU, Dense, Dropout"
   ]
  },
  {
   "cell_type": "code",
   "execution_count": 2,
   "metadata": {},
   "outputs": [],
   "source": [
    "consumption = pd.read_csv(\"InputTrain.csv\")\n",
    "washing_machine = pd.read_csv(\"StepTwo_LabelTrain_WashingMachine.csv\")\n",
    "dishwasher = pd.read_csv(\"StepTwo_LabelTrain_Dishwasher.csv\")\n",
    "tumble_dryer = pd.read_csv(\"StepTwo_LabelTrain_TumbleDryer.csv\")\n",
    "microwave = pd.read_csv(\"StepTwo_LabelTrain_Microwave.csv\")\n",
    "kettle = pd.read_csv(\"StepTwo_LabelTrain_Kettle.csv\")"
   ]
  },
  {
   "cell_type": "code",
   "execution_count": 3,
   "metadata": {},
   "outputs": [],
   "source": [
    "def transform(machine,name):\n",
    "    time_stamps = []\n",
    "    for elt in machine.columns :\n",
    "        if str.startswith(elt,'TimeStep') :\n",
    "            time_stamps.append(elt)\n",
    "    machine = pd.melt(machine,id_vars=['Index','House_id'],value_vars= time_stamps, var_name='time',value_name = name)\n",
    "\n",
    "    machine = pd.DataFrame(machine)\n",
    "    times = []\n",
    "    for elt in machine['time']:\n",
    "        times.append(int(elt[9:]))\n",
    "    machine['time'] = times\n",
    "    machine = machine.sort_values(['Index','time'])\n",
    "    return machine"
   ]
  },
  {
   "cell_type": "code",
   "execution_count": 4,
   "metadata": {},
   "outputs": [],
   "source": [
    "washing_machine = transform(washing_machine,'Washing Machine')\n",
    "dishwasher = transform(dishwasher,'Dishwasher')\n",
    "tumble_dryer = transform(tumble_dryer,'Tumble Dryer')\n",
    "microwave = transform(microwave,'Microwave')\n",
    "kettle = transform(kettle,'Kettle')\n",
    "\n",
    "machines = [washing_machine,dishwasher,tumble_dryer,microwave,kettle]\n",
    "\n",
    "consumption = transform(consumption,'watt')"
   ]
  },
  {
   "cell_type": "code",
   "execution_count": 5,
   "metadata": {},
   "outputs": [
    {
     "name": "stdout",
     "output_type": "stream",
     "text": [
      "2160\n"
     ]
    }
   ],
   "source": [
    "df_train = pd.concat([consumption,washing_machine['Washing Machine'],dishwasher['Dishwasher'],\n",
    "                      tumble_dryer['Tumble Dryer'],microwave['Microwave'],kettle['Kettle']],\n",
    "                      names=['Index', 'House_id','time','watt','Washing Machine', 'Dishwasher', 'Tumble Dryer', 'Microwave', 'Kettle', 'watt'],\n",
    "                      axis=1, join=\"inner\")\n",
    "print(len(df_train[df_train[\"Index\"] == 1]))"
   ]
  },
  {
   "cell_type": "code",
   "execution_count": 6,
   "metadata": {},
   "outputs": [],
   "source": [
    "# Paramètres du modèle\n",
    "batch_size = 64\n",
    "seq_len = 2160\n",
    "n_features = 1\n",
    "n_targets = 5"
   ]
  },
  {
   "cell_type": "code",
   "execution_count": 7,
   "metadata": {},
   "outputs": [],
   "source": [
    "# Création du générateur de données d'entraînement\n",
    "def generate_data(df, batch_size):\n",
    "    num_curves = len(df['Index'].unique())\n",
    "    num_batches_per_epoch = num_curves // batch_size\n",
    "\n",
    "    while True:\n",
    "        # Mélange aléatoire des courbes\n",
    "        shuffled_curves = np.random.permutation(df['Index'].unique())\n",
    "\n",
    "        # Pour chaque batch\n",
    "        for i in range(num_batches_per_epoch):\n",
    "            # Sélection aléatoire de batch_size courbes\n",
    "            batch_curves = shuffled_curves[i*batch_size:(i+1)*batch_size]\n",
    "\n",
    "            # Initialisation des tenseurs d'entrée et de sortie du batch\n",
    "            X_batch = np.zeros((batch_size, seq_len, n_features))\n",
    "            y_batch = np.zeros((batch_size, seq_len, n_targets))\n",
    "\n",
    "            # Remplissage des tenseurs d'entrée et de sortie du batch\n",
    "            for j, curve in enumerate(batch_curves):\n",
    "                curve_data = df[df['Index'] == curve]\n",
    "                X_batch[j,:,:] = curve_data[['watt']].values\n",
    "                y_batch[j,:,:] = curve_data[['Washing Machine', 'Dishwasher', 'Tumble Dryer', 'Microwave', 'Kettle']].values\n",
    "\n",
    "            yield (X_batch, y_batch)"
   ]
  },
  {
   "cell_type": "code",
   "execution_count": 8,
   "metadata": {},
   "outputs": [],
   "source": [
    "# Création du modèle\n",
    "model = Sequential()\n",
    "model.add(GRU(128, input_shape=(seq_len, n_features), return_sequences=True))\n",
    "model.add(Dropout(0.2))\n",
    "model.add(GRU(128, return_sequences=True))\n",
    "model.add(Dropout(0.2))\n",
    "model.add(GRU(128, return_sequences=True))\n",
    "model.add(Dropout(0.2))\n",
    "model.add(Dense(n_targets, activation='sigmoid'))"
   ]
  },
  {
   "cell_type": "code",
   "execution_count": 9,
   "metadata": {},
   "outputs": [],
   "source": [
    "# Compilation du modèle\n",
    "model.compile(loss='binary_crossentropy', optimizer='adam', metrics=['accuracy'])"
   ]
  },
  {
   "cell_type": "code",
   "execution_count": 10,
   "metadata": {},
   "outputs": [
    {
     "name": "stdout",
     "output_type": "stream",
     "text": [
      "Epoch 1/5\n",
      "500/500 [==============================] - 4594s 9s/step - loss: 0.0508 - accuracy: 0.6291\n",
      "Epoch 2/5\n",
      "140/500 [=======>......................] - ETA: 54:41 - loss: 0.0357 - accuracy: 0.7168"
     ]
    }
   ],
   "source": [
    "# Entraînement du modèle\n",
    "train_generator = generate_data(df_train, batch_size=batch_size)\n",
    "model.fit(train_generator, steps_per_epoch=500, epochs=5)"
   ]
  },
  {
   "cell_type": "code",
   "execution_count": null,
   "metadata": {},
   "outputs": [],
   "source": [
    "# Charger les données de test dans une DataFrame Pandas\n",
    "df_test = pd.read_csv(\"InputTest.csv\")\n",
    "df_test = transform(df_test,\"watt\")"
   ]
  },
  {
   "cell_type": "code",
   "execution_count": null,
   "metadata": {},
   "outputs": [],
   "source": [
    "# Génération des données de test\n",
    "def generate_test_data(df):\n",
    "    for _, curve_data in df.groupby('Index'):\n",
    "        X = np.array(curve_data[['watt']].values).reshape(1, -1, 1)\n",
    "        yield X"
   ]
  },
  {
   "cell_type": "code",
   "execution_count": null,
   "metadata": {},
   "outputs": [],
   "source": [
    "# Prédiction des états des appareils pour chaque courbe de consommation\n",
    "y_pred = []\n",
    "for X_test in generate_test_data(df_test):\n",
    "    y_test_pred = model.predict(X_test)\n",
    "    y_pred.append(y_test_pred[0,:,:])"
   ]
  },
  {
   "cell_type": "code",
   "execution_count": null,
   "metadata": {},
   "outputs": [],
   "source": [
    "# Création d'un DataFrame pour les résultats\n",
    "result_df = pd.DataFrame(data=np.array(y_pred).reshape(-1, 5), columns=['Washing Machine', 'Dishwasher', 'Tumble Dryer', 'Microwave', 'Kettle'])\n",
    "result_df = result_df.round(4)"
   ]
  },
  {
   "cell_type": "code",
   "execution_count": null,
   "metadata": {},
   "outputs": [],
   "source": [
    "# Exportation des résultats au format CSV\n",
    "result_df.to_csv('GRU_5epochs_500steps_sigmoid.csv', index=True, index_label=\"Index\")"
   ]
  }
 ],
 "metadata": {
  "kernelspec": {
   "display_name": "Python 3",
   "language": "python",
   "name": "python3"
  },
  "language_info": {
   "codemirror_mode": {
    "name": "ipython",
    "version": 3
   },
   "file_extension": ".py",
   "mimetype": "text/x-python",
   "name": "python",
   "nbconvert_exporter": "python",
   "pygments_lexer": "ipython3",
   "version": "3.11.3"
  },
  "orig_nbformat": 4
 },
 "nbformat": 4,
 "nbformat_minor": 2
}
