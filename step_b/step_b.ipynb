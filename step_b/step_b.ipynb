{
 "cells": [
  {
   "attachments": {},
   "cell_type": "markdown",
   "metadata": {},
   "source": [
    "## Imports"
   ]
  },
  {
   "cell_type": "code",
   "execution_count": null,
   "metadata": {},
   "outputs": [],
   "source": [
    "import pandas as pd\n",
    "from pyspark.sql import SparkSession\n",
    "from pyspark.sql.functions import col\n",
    "from pyspark.ml.feature import VectorAssembler\n",
    "from pyspark.ml.regression import LinearRegression"
   ]
  },
  {
   "cell_type": "markdown",
   "metadata": {},
   "source": [
    "## Start Spark"
   ]
  },
  {
   "cell_type": "code",
   "execution_count": null,
   "metadata": {},
   "outputs": [],
   "source": [
    "spark = SparkSession.builder.master(\"local[*]\").config(\"spark.driver.memory\", \"8g\").getOrCreate()"
   ]
  },
  {
   "cell_type": "markdown",
   "metadata": {},
   "source": [
    "## Load of train set and labels and merge"
   ]
  },
  {
   "cell_type": "code",
   "execution_count": null,
   "metadata": {},
   "outputs": [],
   "source": [
    "train = pd.read_csv(\"./InputTrain.csv\")\n",
    "test = pd.read_csv(\"./InputTest.csv\")\n",
    "\n",
    "dishwasher = pd.read_csv(\"./StepTwo_LabelTrain_Dishwasher.csv\")\n",
    "kettle = pd.read_csv(\"./StepTwo_LabelTrain_Kettle.csv\")\n",
    "microwave = pd.read_csv(\"./StepTwo_LabelTrain_Microwave.csv\")\n",
    "tumble_dryer = pd.read_csv(\"./StepTwo_LabelTrain_TumbleDryer.csv\")\n",
    "washing_machine = pd.read_csv(\"./StepTwo_LabelTrain_WashingMachine.csv\")\n",
    "\n",
    "appliances = [dishwasher, kettle, microwave, tumble_dryer, washing_machine]\n"
   ]
  },
  {
   "cell_type": "code",
   "execution_count": null,
   "metadata": {},
   "outputs": [],
   "source": [
    "# create a feature matrix using VectorAssembler\n",
    "train_spark = spark.createDataFrame(train)\n",
    "feature_cols = train_spark.columns[2:]  # exclude index and house_id\n",
    "assembler = VectorAssembler(inputCols=feature_cols, outputCol=\"features\")\n",
    "train_df = assembler.transform(train_spark).select(\"Index\", \"features\")"
   ]
  },
  {
   "cell_type": "code",
   "execution_count": null,
   "metadata": {},
   "outputs": [],
   "source": [
    "def train_appliance_model(appliance_name):\n",
    "    appliance_cols = [\"House_id\"] + [f\"Timestep_{i}\" for i in range(2160)]\n",
    "    feature_cols = [col for col in train_spark.columns if col not in appliance_cols]\n",
    "    \n",
    "    # select feature and target columns\n",
    "    cols = [f\"Timestep_{i}\" for i in range(2160)] + feature_cols\n",
    "    df = train_spark.select(cols).withColumn(appliance_name, col(appliance_name).cast(\"float\"))\n",
    "    \n",
    "    # assemble feature vector\n",
    "    assembler = VectorAssembler(inputCols=feature_cols, outputCol=\"features\")\n",
    "    assembled_df = assembler.transform(df).select(\"features\", appliance_name)\n",
    "    \n",
    "    # train linear regression model\n",
    "    lr = LinearRegression(maxIter=10, regParam=0.3, elasticNetParam=0.8)\n",
    "    model = lr.fit(assembled_df)\n",
    "\n",
    "    return model"
   ]
  },
  {
   "cell_type": "code",
   "execution_count": null,
   "metadata": {},
   "outputs": [],
   "source": [
    "appliance_names = [\"Dishwasher\", \"Kettle\", \"Microwave\", \"Tumble Dryer\", \"Washing Machine\"]\n",
    "models = [train_appliance_model(name) for name in appliance_names]"
   ]
  }
 ],
 "metadata": {
  "kernelspec": {
   "display_name": "base",
   "language": "python",
   "name": "python3"
  },
  "language_info": {
   "codemirror_mode": {
    "name": "ipython",
    "version": 3
   },
   "file_extension": ".py",
   "mimetype": "text/x-python",
   "name": "python",
   "nbconvert_exporter": "python",
   "pygments_lexer": "ipython3",
   "version": "3.9.13"
  },
  "orig_nbformat": 4
 },
 "nbformat": 4,
 "nbformat_minor": 2
}
