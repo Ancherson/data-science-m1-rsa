{
 "cells": [
  {
   "cell_type": "code",
   "execution_count": 1,
   "metadata": {},
   "outputs": [],
   "source": [
    "import pandas as pd\n",
    "from sklearn.tree import DecisionTreeClassifier\n",
    "from sklearn.svm import SVC\n",
    "from itertools import combinations\n",
    "\n",
    "# Lecture des fichiers csv\n",
    "consumption_train = pd.read_csv(\"InputTrain.csv\", index_col=0)\n",
    "consumption_test = pd.read_csv(\"InputTest.csv\", index_col=0)\n",
    "activation_train = pd.read_csv(\"StepOne_LabelTrain.csv\", index_col=0)\n",
    "activation_test = pd.DataFrame()"
   ]
  },
  {
   "cell_type": "code",
   "execution_count": 2,
   "metadata": {},
   "outputs": [
    {
     "name": "stdout",
     "output_type": "stream",
     "text": [
      "start boucle\n",
      "entrainement Washing Machine\n",
      "predict Washing Machine\n",
      "fin predict\n",
      "entrainement Dishwasher\n",
      "predict Dishwasher\n",
      "fin predict\n",
      "entrainement Tumble Dryer\n",
      "predict Tumble Dryer\n",
      "fin predict\n",
      "entrainement Microwave\n",
      "predict Microwave\n",
      "fin predict\n",
      "entrainement Kettle\n",
      "predict Kettle\n",
      "fin predict\n"
     ]
    }
   ],
   "source": [
    "# Définition du modèle de classification\n",
    "classifier = DecisionTreeClassifier()\n",
    "appareils = ['Washing Machine', 'Dishwasher', 'Tumble Dryer', 'Microwave', 'Kettle']\n",
    "\n",
    "print(\"start boucle\")\n",
    "# Entraînement et prédiction pour chaque appareil individuellement\n",
    "for column in appareils:\n",
    "    # Sélection des données d'entraînement et de test pour l'appareil courant\n",
    "    X_train = consumption_train.values\n",
    "    y_train = activation_train[column].values\n",
    "    X_test = consumption_test.values\n",
    "    \n",
    "    print(f\"entrainement {column}\")\n",
    "    # Entraînement du modèle\n",
    "    classifier.fit(X_train, y_train)\n",
    "    \n",
    "    print(f\"predict {column}\")\n",
    "    # Prédiction sur les données de test\n",
    "    y_pred = classifier.predict(X_test)\n",
    "    \n",
    "    print(\"fin predict\")\n",
    "    # Enregistrement des prédictions dans le fichier correspondant\n",
    "    activation_test[column] = y_pred"
   ]
  },
  {
   "cell_type": "code",
   "execution_count": 4,
   "metadata": {},
   "outputs": [
    {
     "name": "stdout",
     "output_type": "stream",
     "text": [
      "entrainement ('Washing Machine', 'Dishwasher')\n",
      "predict ('Washing Machine', 'Dishwasher')\n",
      "0\n"
     ]
    }
   ],
   "source": [
    "# Entraînement et prédiction pour chaque ensemble d'appareils possibles\n",
    "for k in range(2, len(['Washing Machine', 'Dishwasher', 'Tumble Dryer', 'Microwave', 'Kettle']) + 1):\n",
    "    for columns in combinations(['Washing Machine', 'Dishwasher', 'Tumble Dryer', 'Microwave', 'Kettle'], k):\n",
    "        # Sélection des données d'entraînement et de test pour les appareils courants\n",
    "        \n",
    "        X_train = consumption_train.values\n",
    "        y_train = activation_train[list(columns)].values\n",
    "        X_test = consumption_test.values\n",
    "        print(f\"entrainement {columns}\")\n",
    "        # Entraînement du modèle\n",
    "        classifier.fit(X_train, y_train)\n",
    "        \n",
    "        print(f\"predict {columns}\")\n",
    "        # Prédiction sur les données de test\n",
    "        y_pred = classifier.predict(X_test)\n",
    "        \n",
    "        \n",
    "        # Enregistrement des prédictions dans le fichier correspondant\n",
    "        y=0\n",
    "        for elt in columns :\n",
    "            for i in range(len(activation_test[elt])) :\n",
    "                activation_test[elt][i] = (y_pred[i][y] + activation_test[elt][i])/2\n",
    "            y+= 1"
   ]
  },
  {
   "cell_type": "code",
   "execution_count": null,
   "metadata": {},
   "outputs": [],
   "source": [
    "# Enregistrement des prédictions dans un fichier csv\n",
    "activation_test.to_csv(\"resultats_randomforest.csv\", index=True,index_label='Index',columns=['Washing Machine', 'Dishwasher', 'Tumble Dryer', 'Microwave', 'Kettle'])\n"
   ]
  }
 ],
 "metadata": {
  "kernelspec": {
   "display_name": "Python 3",
   "language": "python",
   "name": "python3"
  },
  "language_info": {
   "codemirror_mode": {
    "name": "ipython",
    "version": 3
   },
   "file_extension": ".py",
   "mimetype": "text/x-python",
   "name": "python",
   "nbconvert_exporter": "python",
   "pygments_lexer": "ipython3",
   "version": "3.9.2"
  },
  "orig_nbformat": 4
 },
 "nbformat": 4,
 "nbformat_minor": 2
}
